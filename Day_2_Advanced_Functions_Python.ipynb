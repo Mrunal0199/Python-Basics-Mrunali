{
  "nbformat": 4,
  "nbformat_minor": 0,
  "metadata": {
    "colab": {
      "provenance": []
    },
    "kernelspec": {
      "name": "python3",
      "display_name": "Python 3"
    },
    "language_info": {
      "name": "python"
    }
  },
  "cells": [
    {
      "cell_type": "markdown",
      "source": [
        "STEP 1:Function Parameters + Default Arguments\n",
        "STEP 2: args and kwargs (Flexible Functions)\n",
        "STEP 3: Lambda Functions (One-liners)\n",
        "STEP 4: Nested Function Example\n",
        "STEP 5: Mini Recursion (Bonus Concept)\n",
        "\n",
        "\n"
      ],
      "metadata": {
        "id": "EobVncSiBM6Q"
      }
    },
    {
      "cell_type": "markdown",
      "source": [
        "### 💡 Advanced Functions in Python\n",
        "\n",
        "- **Default Parameters**: Provide a fallback value if no input is given.\n",
        "- **`*args`**: Accepts any number of positional arguments as a tuple.\n",
        "- **`**kwargs`**: Accepts any number of keyword arguments as a dictionary.\n",
        "- **Lambda Functions**: One-line functions used for short operations.\n",
        "- **Nested Functions**: Functions defined inside other functions.\n",
        "- **Recursion**: A function that calls itself until it reaches a base condition.\n"
      ],
      "metadata": {
        "id": "Q86-JxSEN4sD"
      }
    },
    {
      "cell_type": "code",
      "execution_count": 2,
      "metadata": {
        "colab": {
          "base_uri": "https://localhost:8080/"
        },
        "id": "p6uERaGKA_tb",
        "outputId": "71b6d8af-7dc2-4b48-9e7b-2a79b5e975d2"
      },
      "outputs": [
        {
          "output_type": "stream",
          "name": "stdout",
          "text": [
            "Hello, Mrunali!\n",
            "Hello, Queen!\n",
            "10\n",
            "name: Mrunali\n",
            "course: MSc Business Analytics\n",
            "24\n",
            "Outer function starts\n",
            "Inner function called\n",
            "Outer function ends\n",
            "120\n"
          ]
        }
      ],
      "source": [
        "# Default parameter\n",
        "def greet(name=\"Mrunali\"):\n",
        "    print(f\"Hello, {name}!\")\n",
        "\n",
        "greet()         # Uses default\n",
        "greet(\"Queen\")  # Overrides default\n",
        "\n",
        "# *args allows multiple positional arguments\n",
        "def add_all(*args):\n",
        "    return sum(args)\n",
        "\n",
        "print(add_all(1, 2, 3, 4))\n",
        "\n",
        "# **kwargs allows multiple keyword arguments\n",
        "def print_info(**kwargs):\n",
        "    for key, value in kwargs.items():\n",
        "        print(f\"{key}: {value}\")\n",
        "\n",
        "print_info(name=\"Mrunali\", course=\"MSc Business Analytics\")\n",
        "\n",
        "# Lambda function to multiply numbers\n",
        "multiply = lambda x, y: x * y\n",
        "print(multiply(4, 6))\n",
        "\n",
        "def outer():\n",
        "    def inner():\n",
        "        print(\"Inner function called\")\n",
        "    print(\"Outer function starts\")\n",
        "    inner()\n",
        "    print(\"Outer function ends\")\n",
        "\n",
        "outer()\n",
        "\n",
        "def factorial(n):\n",
        "    if n == 1:\n",
        "        return 1\n",
        "    else:\n",
        "        return n * factorial(n-1)\n",
        "\n",
        "print(factorial(5))  # Output: 120\n",
        "\n"
      ]
    },
    {
      "cell_type": "code",
      "source": [],
      "metadata": {
        "id": "i5IHAXgKM3gu"
      },
      "execution_count": null,
      "outputs": []
    }
  ]
}