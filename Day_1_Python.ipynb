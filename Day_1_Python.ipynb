{
  "nbformat": 4,
  "nbformat_minor": 0,
  "metadata": {
    "colab": {
      "provenance": []
    },
    "kernelspec": {
      "name": "python3",
      "display_name": "Python 3"
    },
    "language_info": {
      "name": "python"
    }
  },
  "cells": [
    {
      "cell_type": "markdown",
      "source": [
        "Print statement\n"
      ],
      "metadata": {
        "id": "jSAsOKsbW2JX"
      }
    },
    {
      "cell_type": "code",
      "execution_count": 1,
      "metadata": {
        "id": "wgVrdmTM5Zi6",
        "colab": {
          "base_uri": "https://localhost:8080/"
        },
        "outputId": "dc0e3abb-b4bc-4e37-af2b-489213fe8215"
      },
      "outputs": [
        {
          "output_type": "stream",
          "name": "stdout",
          "text": [
            "Hello, I'm Mrunali Rewaskar and I am learning python!\n"
          ]
        }
      ],
      "source": [
        "print(\"Hello, I'm Mrunali Rewaskar and I am learning python!\")"
      ]
    },
    {
      "cell_type": "markdown",
      "source": [
        "Variables and Data Types\n"
      ],
      "metadata": {
        "id": "VBR-HaL4W1Os"
      }
    },
    {
      "cell_type": "markdown",
      "source": [
        "A variable is a container used to store information in a program.\n",
        "You can think of it like a labelled box that holds a value — such as a number, string, or list."
      ],
      "metadata": {
        "id": "-ozvixJyddAo"
      }
    },
    {
      "cell_type": "code",
      "source": [
        "name= \"Mrunali\"\n",
        "age= 25\n",
        "height= 5.2\n",
        "is_student= True\n",
        "print(name,age,height,is_student)\n"
      ],
      "metadata": {
        "colab": {
          "base_uri": "https://localhost:8080/"
        },
        "id": "sp1e_WhWV-kZ",
        "outputId": "3df48b73-df5a-4a3c-c52f-e48d7d95376a"
      },
      "execution_count": 3,
      "outputs": [
        {
          "output_type": "stream",
          "name": "stdout",
          "text": [
            "Mrunali 25 5.2 True\n"
          ]
        }
      ]
    },
    {
      "cell_type": "markdown",
      "source": [
        "List, Tuples, Dictonary"
      ],
      "metadata": {
        "id": "swdN0JPnXBpB"
      }
    },
    {
      "cell_type": "markdown",
      "source": [
        "Feature\tList\tTuple\n",
        "Syntax\t[1, 2, 3]\t(1, 2, 3)\n",
        "Mutability\t✅ Mutable (can change)\t❌ Immutable (can’t change)\n",
        "Use Case\tWhen you want to update data\tWhen you want fixed data\n",
        "Performance\tSlightly slower\tFaster (since it’s fixed)"
      ],
      "metadata": {
        "id": "H602bmEsdnkW"
      }
    },
    {
      "cell_type": "code",
      "source": [
        "my_list=[1,2,3,4,5]\n",
        "my_tuple=(\"chiku\",\"grapes\",\"pineapple\")\n",
        "my_dict={\"name\":\"Mrunali\", \"course\":\"MSc Business Analytics\"}\n",
        "print(my_list,my_tuple,my_dict)"
      ],
      "metadata": {
        "colab": {
          "base_uri": "https://localhost:8080/"
        },
        "id": "eyqo09CvXFMe",
        "outputId": "80b71773-6ce9-4be8-c2a5-f37acfa8d515"
      },
      "execution_count": 1,
      "outputs": [
        {
          "output_type": "stream",
          "name": "stdout",
          "text": [
            "[1, 2, 3, 4, 5] ('chiku', 'grapes', 'pineapple') {'name': 'Mrunali', 'course': 'MSc Business Analytics'}\n"
          ]
        }
      ]
    },
    {
      "cell_type": "markdown",
      "source": [
        "Conditions and Loops"
      ],
      "metadata": {
        "id": "t-f8-qF8YnVY"
      }
    },
    {
      "cell_type": "markdown",
      "source": [
        "\n",
        "\n",
        "- `if/else` is used to make decisions based on conditions.\n",
        "- `for` loops are used to iterate over sequences (like lists or strings).\n",
        "- `while` loops repeat as long as a condition is `True`.\n",
        "\n",
        "Loops help automate repetitive tasks.\n"
      ],
      "metadata": {
        "id": "fiMhGjC6gH1o"
      }
    },
    {
      "cell_type": "code",
      "source": [
        "for i in range (5):\n",
        "  if i % 2 ==0:\n",
        "    print(f\"{i},is even\" )\n",
        "  else:\n",
        "      print (f\"{i},is odd\")"
      ],
      "metadata": {
        "colab": {
          "base_uri": "https://localhost:8080/"
        },
        "id": "I_EnCh6_Ym_s",
        "outputId": "cd3eb2ce-dde4-47d6-c768-e8062fe58e2b"
      },
      "execution_count": 3,
      "outputs": [
        {
          "output_type": "stream",
          "name": "stdout",
          "text": [
            "0,is even\n",
            "1,is odd\n",
            "2,is even\n",
            "3,is odd\n",
            "4,is even\n"
          ]
        }
      ]
    },
    {
      "cell_type": "code",
      "source": [
        "# Conditional statement\n",
        "age = 25\n",
        "if age < 18:\n",
        "    print(\"You are a minor.\")\n",
        "elif age >= 18 and age < 60:\n",
        "    print(\"You are an adult.\")\n",
        "else:\n",
        "    print(\"You are a senior.\")\n",
        "\n",
        "# For loop example\n",
        "for fruit in [\"apple\", \"banana\", \"chiku\"]:\n",
        "    print(f\"I like {fruit}\")\n",
        "\n",
        "# While loop example\n",
        "count = 0\n",
        "while count < 5:\n",
        "    print(\"Count is:\", count)\n",
        "    count += 1\n"
      ],
      "metadata": {
        "colab": {
          "base_uri": "https://localhost:8080/"
        },
        "id": "1rxGxfXOgO_U",
        "outputId": "0fc763aa-2a63-445e-9db2-e76ebe87a0ea"
      },
      "execution_count": 14,
      "outputs": [
        {
          "output_type": "stream",
          "name": "stdout",
          "text": [
            "You are an adult.\n",
            "I like apple\n",
            "I like banana\n",
            "I like chiku\n",
            "Count is: 0\n",
            "Count is: 1\n",
            "Count is: 2\n",
            "Count is: 3\n",
            "Count is: 4\n"
          ]
        }
      ]
    },
    {
      "cell_type": "markdown",
      "source": [
        "Functions"
      ],
      "metadata": {
        "id": "rdQXVgg5buom"
      }
    },
    {
      "cell_type": "markdown",
      "source": [
        "A function is a reusable block of code that performs a specific task.\n",
        "You can call a function anytime by its name to use that code."
      ],
      "metadata": {
        "id": "Vkg321judwJp"
      }
    },
    {
      "cell_type": "code",
      "source": [
        "def greet(name):\n",
        "    return f\"Hello {name}, welcome to Day 1 of Python!\"\n",
        "\n",
        "greet(\"Mrunali\")\n"
      ],
      "metadata": {
        "colab": {
          "base_uri": "https://localhost:8080/",
          "height": 35
        },
        "id": "ylweQdG2cQqM",
        "outputId": "ad140719-093d-4eff-b63e-9a3c2bcf152c"
      },
      "execution_count": 5,
      "outputs": [
        {
          "output_type": "execute_result",
          "data": {
            "text/plain": [
              "'Hello Mrunali, welcome to Day 1 of Python!'"
            ],
            "application/vnd.google.colaboratory.intrinsic+json": {
              "type": "string"
            }
          },
          "metadata": {},
          "execution_count": 5
        }
      ]
    }
  ]
}